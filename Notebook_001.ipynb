{
 "cells": [
  {
   "cell_type": "markdown",
   "metadata": {},
   "source": [
    "<h1>Proyecto: Conflicto de intereses </h1>\n",
    "<br>\n",
    "<p><b>Autores:</b> Camilo Tamayo, Maritza Ibarra, Sebastián Rincón</p>\n",
    "<p>Junio 2021</p>"
   ]
  },
  {
   "cell_type": "code",
   "execution_count": 1,
   "metadata": {},
   "outputs": [],
   "source": [
    "import pandas as pd\n",
    "#CONYUGE_COMPANERO = pd.read_excel('FORMULARIO.xlsx','CONYUGE_COMPANERO')\n",
    "#CI_PARIENTES = pd.read_excel('FORMULARIO.xlsx','CI_PARIENTES')\n",
    "#DONACIONES = pd.read_excel('FORMULARIO.xlsx','DONACIONES')\n",
    "POSIBLES_CI = pd.read_excel('FORMULARIO.xlsx','POSIBLES_CI')"
   ]
  },
  {
   "cell_type": "markdown",
   "metadata": {},
   "source": [
    "<p>Conyuge compañero</p>"
   ]
  },
  {
   "cell_type": "code",
   "execution_count": 42,
   "metadata": {},
   "outputs": [
    {
     "name": "stdout",
     "output_type": "stream",
     "text": [
      "<class 'pandas.core.frame.DataFrame'>\n",
      "RangeIndex: 1142 entries, 0 to 1141\n",
      "Data columns (total 20 columns):\n",
      " #   Column                     Non-Null Count  Dtype         \n",
      "---  ------                     --------------  -----         \n",
      " 0   TIPO_DOCUMENTO             1142 non-null   object        \n",
      " 1   NUMERO_DOCUMENTO           1142 non-null   int64         \n",
      " 2   PRIMER_NOMBRE              1142 non-null   object        \n",
      " 3   SEGUNDO_NOMBRE             958 non-null    object        \n",
      " 4   PRIMER_APELLIDO            1142 non-null   object        \n",
      " 5   SEGUNDO_APELLIDO           1118 non-null   object        \n",
      " 6   FECHA_PUBLICACION          1142 non-null   datetime64[ns]\n",
      " 7   ESTADO_DEL_REPORTE         1142 non-null   object        \n",
      " 8   NOMBRE_ENTIDAD             1086 non-null   object        \n",
      " 9   ES_CONTRATISTA             1142 non-null   object        \n",
      " 10  CARGO                      80 non-null     object        \n",
      " 11  TIENE_CONYUGE_CPERMANENTE  1142 non-null   object        \n",
      " 12  SUSCEPTIBLE_CI             1142 non-null   object        \n",
      " 13  CCP_PNOMBRE                18 non-null     object        \n",
      " 14  CCP_SNOMBRE                13 non-null     object        \n",
      " 15  CCP_PAPELLIDO              18 non-null     object        \n",
      " 16  CCP_SAPELLIDO              17 non-null     object        \n",
      " 17  CCP_TDOCUMENTO             18 non-null     object        \n",
      " 18  CCP_NDOCUMENTO             18 non-null     float64       \n",
      " 19  CCP_DESC_POTENCIAL_CI      18 non-null     object        \n",
      "dtypes: datetime64[ns](1), float64(1), int64(1), object(17)\n",
      "memory usage: 178.6+ KB\n",
      "None\n"
     ]
    }
   ],
   "source": [
    "print(CONYUGE_COMPANERO.info())"
   ]
  },
  {
   "cell_type": "code",
   "execution_count": 51,
   "metadata": {},
   "outputs": [
    {
     "name": "stdout",
     "output_type": "stream",
     "text": [
      "DIRECTOR ADMINISTRATIVO Y/O FINANCIERO Ó TÉCNICO U OPERATIVO                        15\n",
      "DIRECTOR ADMINISTRATIVO O FINANCIERO O TÉCNICO U OPERATIVO                          10\n",
      "REPRESENTANTE A LA CÁMARA                                                            8\n",
      "DIRECTOR O GERENTE TERRITORIAL O REGIONAL O SECCIONAL                                7\n",
      "SECRETARIO DE DESPACHO                                                               7\n",
      "GERENTE                                                                              6\n",
      "NOTARIO                                                                              4\n",
      "SENADOR                                                                              3\n",
      "REGISTRADOR ESPECIAL                                                                 2\n",
      "JUEZ                                                                                 2\n",
      "SUBGERENTE, VICEPRESIDENTE O SUBDIRECTOR GENERAL O NACIONAL  DE ENTIDAD DESCENTR     2\n",
      "JEFE DE OFICINA                                                                      2\n",
      "ALCALDE                                                                              1\n",
      "DIRECTOR GENERAL DE AGENCIA                                                          1\n",
      "MAGISTRADO                                                                           1\n",
      "PROCURADOR DELEGADO                                                                  1\n",
      "SUBDIRECTOR ADMINISTRATIVO O FINANCIERO O TÉCNICO U OPERATIVO                        1\n",
      "CONCEJAL                                                                             1\n",
      "DIRECTOR DE DEPARTAMENTO ADMINISTRATIVO                                              1\n",
      "PROCURADOR REGIONAL                                                                  1\n",
      "SUBDIRECTOR ADMINISTRATIVO Y/O FINANCIERO Ó TÉCNICO U OPERATIVO                      1\n",
      "DIRECTOR REGIONAL                                                                    1\n",
      "GERENTE, PRESIDENTE O DIRECTOR GENERAL O NACIONAL DE ENTIDAD DESCENTRALIZADA Ó D     1\n",
      "DIRECTOR O GERENTE GENERAL DE ENTIDAD DESCENTRALIZADA                                1\n",
      "Name: CARGO, dtype: int64\n",
      "Lider de Innovación y Gestion del Conocimiento RTVC                                                                       1\n",
      "Por ser el  Cónyuge  del servidor público                                                                                 1\n",
      "ES REPRESENTANTE LEGAL DE ALGUNA DE LAS EMPRESAS DE MI PROPIEDAD, DUEÑA DE TIERRAS Y GANADO                               1\n",
      "Que conozca o haya conocido de un proceso penal respecto del que luego se adelante un proceso de extinción de dominio.    1\n",
      "Actividad económica de consultoría o asesoría empresarial.                                                                1\n",
      "Funcionario público                                                                                                       1\n",
      "ESPOSA                                                                                                                    1\n",
      "EN LA ACTUALIDAD ES NOTARÍA PRIMERA DEL MUNICIPIO DE ENVIGADO DEPARTAMENTO DE ANTIOQUIA                                   1\n",
      "Vinculación emocional                                                                                                     1\n",
      "EL BIEN INMUEBLE ESTA A NOMBRE DE LOS                                                                                     1\n",
      "NO                                                                                                                        1\n",
      "Socio y representante legal de la empresa Andamios y Equipos Certificados S.A.S.                                          1\n",
      "CONYUGE                                                                                                                   1\n",
      "Trabaja como directiva en un canal de televisión.                                                                         1\n",
      "NO EXISTE CONFLICTO DE INTERES                                                                                            1\n",
      "DOCENTE OFICIAL EN PROPIEDAD                                                                                              1\n",
      "Ganadería - Agricultura                                                                                                   1\n",
      "DESEMPLEADO                                                                                                               1\n",
      "Name: CCP_DESC_POTENCIAL_CI, dtype: int64\n"
     ]
    }
   ],
   "source": [
    "print(CONYUGE_COMPANERO['CARGO'].value_counts())\n",
    "print(CONYUGE_COMPANERO['CCP_DESC_POTENCIAL_CI'].value_counts())"
   ]
  },
  {
   "cell_type": "code",
   "execution_count": 49,
   "metadata": {},
   "outputs": [
    {
     "data": {
      "text/plain": [
       "<matplotlib.axes._subplots.AxesSubplot at 0x223b5e4a340>"
      ]
     },
     "execution_count": 49,
     "metadata": {},
     "output_type": "execute_result"
    },
    {
     "data": {
      "image/png": "[encoded data removed]",
      "text/plain": [
       "<Figure size 432x288 with 3 Axes>"
      ]
     },
     "metadata": {
      "needs_background": "light"
     },
     "output_type": "display_data"
    }
   ],
   "source": [
    "fig = plt.figure()\n",
    "fig.subplots_adjust(left=0.2, wspace=0.6)\n",
    "\n",
    "\n",
    "ax1 = fig.add_subplot(221)\n",
    "ax1.set_title('Contratista')\n",
    "CONYUGE_COMPANERO['ES_CONTRATISTA'].value_counts().plot(kind='bar')\n",
    "\n",
    "ax2 = fig.add_subplot(222)\n",
    "ax2.set_title('Susceptible')\n",
    "CONYUGE_COMPANERO['SUSCEPTIBLE_CI'].value_counts().plot(kind='bar')\n",
    "\n",
    "ax3 = fig.add_subplot(223)\n",
    "ax3.set_title('Conyuge permanente')\n",
    "CONYUGE_COMPANERO['TIENE_CONYUGE_CPERMANENTE'].value_counts().plot(kind='bar')"
   ]
  },
  {
   "cell_type": "markdown",
   "metadata": {},
   "source": [
    "<p>Parientes</p>"
   ]
  },
  {
   "cell_type": "code",
   "execution_count": 52,
   "metadata": {},
   "outputs": [
    {
     "name": "stdout",
     "output_type": "stream",
     "text": [
      "<class 'pandas.core.frame.DataFrame'>\n",
      "RangeIndex: 132 entries, 0 to 131\n",
      "Data columns (total 16 columns):\n",
      " #   Column                      Non-Null Count  Dtype         \n",
      "---  ------                      --------------  -----         \n",
      " 0   TIPO_DOCUMENTO              132 non-null    object        \n",
      " 1   NUMERO_DOCUMENTO            132 non-null    int64         \n",
      " 2   PRIMER_NOMBRE               132 non-null    object        \n",
      " 3   SEGUNDO_NOMBRE              104 non-null    object        \n",
      " 4   PRIMER_APELLIDO             132 non-null    object        \n",
      " 5   SEGUNDO_APELLIDO            132 non-null    object        \n",
      " 6   FECHA_PUBLICACION           132 non-null    datetime64[ns]\n",
      " 7   ESTADO_DEL_REPORTE          132 non-null    object        \n",
      " 8   NOMBRE_ENTIDAD              128 non-null    object        \n",
      " 9   ES_CONTRATISTA              132 non-null    object        \n",
      " 10  CARGO                       42 non-null     object        \n",
      " 11  PARENTESCO                  132 non-null    object        \n",
      " 12  PARIENTE                    132 non-null    object        \n",
      " 13  PARIENTE_TDOCUMENTO         132 non-null    object        \n",
      " 14  PARIENTE_NDOCUMENTO         132 non-null    int64         \n",
      " 15  PARIENTE_DESC_POTENCIAL_CI  122 non-null    object        \n",
      "dtypes: datetime64[ns](1), int64(2), object(13)\n",
      "memory usage: 16.6+ KB\n",
      "None\n"
     ]
    }
   ],
   "source": [
    "print(CI_PARIENTES.info())"
   ]
  },
  {
   "cell_type": "code",
   "execution_count": 56,
   "metadata": {},
   "outputs": [
    {
     "name": "stdout",
     "output_type": "stream",
     "text": [
      "REPRESENTANTE A LA CÁMARA                                       15\n",
      "SECRETARIO DE DESPACHO                                           6\n",
      "SENADOR                                                          5\n",
      "ALCALDE                                                          4\n",
      "GERENTE                                                          3\n",
      "DIRECTOR ADMINISTRATIVO Y/O FINANCIERO Ó TÉCNICO U OPERATIVO     3\n",
      "PROCURADOR REGIONAL                                              2\n",
      "CONCEJAL                                                         2\n",
      "NOTARIO                                                          2\n",
      "Name: CARGO, dtype: int64\n",
      "NINGUNO                                                                                                                  9\n",
      "PARENTESCO                                                                                                               6\n",
      ".                                                                                                                        6\n",
      "Ninguno                                                                                                                  6\n",
      "NO APLICA                                                                                                                5\n",
      "                                                                                                                        ..\n",
      "Pariente de primer grado de consanguinidad                                                                               1\n",
      "Senador de la República                                                                                                  1\n",
      "-\\tSector de restaurantes \\r\\n-\\tNegocio inmobiliario y de arriendos.\\r\\n-\\tDesarrollo agrario de cultivos de caucho.    1\n",
      "Sector Minero-Energético                                                                                                 1\n",
      "TEMAS RELACIONADOS CON COLPENSIONES                                                                                      1\n",
      "Name: PARIENTE_DESC_POTENCIAL_CI, Length: 72, dtype: int64\n",
      "Hermano(a)     43\n",
      "Madre          29\n",
      "Hijo(a)        28\n",
      "Padre          28\n",
      "Sobrino(a)      2\n",
      "Abuelo(a)       1\n",
      "Hijastro(a)     1\n",
      "Name: PARENTESCO, dtype: int64\n"
     ]
    }
   ],
   "source": [
    "print(CI_PARIENTES['CARGO'].value_counts())\n",
    "print(CI_PARIENTES['PARIENTE_DESC_POTENCIAL_CI'].value_counts())\n",
    "\n",
    "print(CI_PARIENTES['PARENTESCO'].value_counts())"
   ]
  },
  {
   "cell_type": "code",
   "execution_count": 59,
   "metadata": {},
   "outputs": [
    {
     "data": {
      "text/plain": [
       "<matplotlib.axes._subplots.AxesSubplot at 0x223b70e9130>"
      ]
     },
     "execution_count": 59,
     "metadata": {},
     "output_type": "execute_result"
    },
    {
     "data": {
      "image/png": "[encoded data removed]",
      "text/plain": [
       "<Figure size 432x288 with 2 Axes>"
      ]
     },
     "metadata": {
      "needs_background": "light"
     },
     "output_type": "display_data"
    }
   ],
   "source": [
    "fig = plt.figure()\n",
    "fig.subplots_adjust(left=0.2, wspace=0.6)\n",
    "\n",
    "\n",
    "ax1 = fig.add_subplot(221)\n",
    "ax1.set_title('Contratista')\n",
    "CI_PARIENTES['ES_CONTRATISTA'].value_counts().plot(kind='bar')\n",
    "\n",
    "ax2 = fig.add_subplot(222)\n",
    "ax2.set_title('Parentesco')\n",
    "CI_PARIENTES['PARENTESCO'].value_counts().plot(kind='bar')\n"
   ]
  },
  {
   "cell_type": "markdown",
   "metadata": {},
   "source": [
    "<p>Posibles</p>"
   ]
  },
  {
   "cell_type": "code",
   "execution_count": 3,
   "metadata": {},
   "outputs": [
    {
     "name": "stdout",
     "output_type": "stream",
     "text": [
      "<class 'pandas.core.frame.DataFrame'>\n",
      "RangeIndex: 135442 entries, 0 to 135441\n",
      "Data columns (total 14 columns):\n",
      " #   Column              Non-Null Count   Dtype         \n",
      "---  ------              --------------   -----         \n",
      " 0   TIPO_DOCUMENTO      135442 non-null  object        \n",
      " 1   NUMERO_DOCUMENTO    135442 non-null  object        \n",
      " 2   RAZON_SOCIAL        2036 non-null    object        \n",
      " 3   PRIMER_NOMBRE       133405 non-null  object        \n",
      " 4   SEGUNDO_NOMBRE      110005 non-null  object        \n",
      " 5   PRIMER_APELLIDO     133404 non-null  object        \n",
      " 6   SEGUNDO_APELLIDO    130754 non-null  object        \n",
      " 7   FECHA_PUBLICACION   135442 non-null  datetime64[ns]\n",
      " 8   ESTADO_DEL_REPORTE  135442 non-null  object        \n",
      " 9   NOMBRE_ENTIDAD      114152 non-null  object        \n",
      " 10  ES_CONTRATISTA      135442 non-null  object        \n",
      " 11  CARGO               4153 non-null    object        \n",
      " 12  POSIBLE_CI          135442 non-null  object        \n",
      " 13  DESC_POSIBLE_CI     1004 non-null    object        \n",
      "dtypes: datetime64[ns](1), object(13)\n",
      "memory usage: 14.5+ MB\n",
      "None\n"
     ]
    }
   ],
   "source": [
    "print(POSIBLES_CI.info())"
   ]
  },
  {
   "cell_type": "code",
   "execution_count": 9,
   "metadata": {},
   "outputs": [],
   "source": [
    "Data1 = POSIBLES_CI[:]\n",
    "Data1 = Data1[Data1['ESTADO_DEL_REPORTE'].isin(['FINALIZADO','EN REVISION'])]\n",
    "Data1 = Data1[Data1['DESC_POSIBLE_CI'].notnull()]"
   ]
  },
  {
   "cell_type": "code",
   "execution_count": 42,
   "metadata": {},
   "outputs": [],
   "source": [
    "import re\n",
    "#import nltk\n",
    "#nltk.download('stopwords')\n",
    "from nltk.corpus import stopwords\n",
    "from nltk.stem import SnowballStemmer\n",
    "\n",
    "\n",
    "def minuscula(x):\n",
    "    minuscula = x.lower()\n",
    "    return minuscula\n",
    "\n",
    "def quitarotros(x):\n",
    "    quitar = x.replace(\"ó\",\"o\").replace(\"á\",\"a\").replace(\"é\",\"e\").replace(\"í\",\"i\").replace(\"ú\",\"u\").replace(\"ü\",\"u\").replace(\"  \",\" \")\n",
    "    quitar = re.sub(\"[^a-zA-Z ]\",\"\",quitar)\n",
    "    return quitar\n",
    "\n",
    "def stopword(x):\n",
    "    stopword = set(stopwords.words('spanish'))\n",
    "    stop = [i for i in x.split() if i not in stopword]\n",
    "    return \" \".join(stop)\n",
    "\n",
    "def stemmer(x):\n",
    "    stemmer = SnowballStemmer('spanish')\n",
    "    stemmed_text = [stemmer.stem(i) for i in word_tokenize(x)]\n",
    "    \n",
    "def stemmer(x):\n",
    "    texto = x.split()\n",
    "    stemmer = SnowballStemmer('spanish')\n",
    "    stemmed_text = [stemmer.stem(i) for i in texto]\n",
    "    return \" \".join(stemmed_text)\n",
    "    \n",
    "\n",
    "Data1['DESC_CORPUS'] = Data1['DESC_POSIBLE_CI'].apply(minuscula).apply(quitarotros).apply(stopword).apply(stemmer)\n",
    "Data1 = Data1[Data1['DESC_CORPUS'].notnull()]"
   ]
  },
  {
   "cell_type": "code",
   "execution_count": 54,
   "metadata": {},
   "outputs": [
    {
     "name": "stdout",
     "output_type": "stream",
     "text": [
      "(1003, 15)\n",
      "['activ negoci', 'autor administr', 'candidat cuerp', 'colegi eleccion', 'conflict inter', 'conflict interes', 'cuerp colegi', 'eleccion popul', 'hab hech', 'hech part', 'list candidat', 'part list', 'potencial conflict', 'ram judicial', 'represent legal']\n",
      "   activ negoci  autor administr  candidat cuerp  colegi eleccion  \\\n",
      "0           0.0              0.0             0.0              0.0   \n",
      "1           0.0              0.0             0.0              0.0   \n",
      "2           0.0              0.0             0.0              0.0   \n",
      "3           0.0              0.0             0.0              0.0   \n",
      "4           0.0              0.0             0.0              0.0   \n",
      "\n",
      "   conflict inter  conflict interes  cuerp colegi  eleccion popul  hab hech  \\\n",
      "0             0.0               1.0           0.0             0.0       0.0   \n",
      "1             0.0               0.0           0.0             0.0       0.0   \n",
      "2             0.0               0.0           0.0             0.0       0.0   \n",
      "3             0.0               0.0           0.0             0.0       0.0   \n",
      "4             0.0               0.0           0.0             0.0       0.0   \n",
      "\n",
      "   hech part  list candidat  part list  potencial conflict  ram judicial  \\\n",
      "0        0.0            0.0        0.0                 0.0           0.0   \n",
      "1        0.0            0.0        0.0                 0.0           0.0   \n",
      "2        0.0            0.0        0.0                 0.0           1.0   \n",
      "3        0.0            0.0        0.0                 0.0           0.0   \n",
      "4        0.0            0.0        0.0                 0.0           0.0   \n",
      "\n",
      "   represent legal  \n",
      "0              0.0  \n",
      "1              0.0  \n",
      "2              0.0  \n",
      "3              0.0  \n",
      "4              1.0  \n"
     ]
    }
   ],
   "source": [
    "from sklearn.feature_extraction.text import TfidfVectorizer\n",
    "\n",
    "# (1, 1) (1, 2) (2, 2)\n",
    "vectorizer = TfidfVectorizer(max_features=15,max_df=0.9,ngram_range=(2, 2))\n",
    "tfidf_matriz = vectorizer.fit_transform(Data1['DESC_CORPUS'])\n",
    "\n",
    "feature_nemes = vectorizer.get_feature_names()\n",
    "\n",
    "print(tfidf_matriz.shape)\n",
    "print(feature_nemes)\n",
    "\n",
    "tfidf = pd.DataFrame(tfidf_matriz.toarray(), columns=vectorizer.get_feature_names())\n",
    "\n",
    "print(tfidf.head(n=5))"
   ]
  },
  {
   "cell_type": "code",
   "execution_count": 14,
   "metadata": {},
   "outputs": [
    {
     "name": "stdout",
     "output_type": "stream",
     "text": [
      "           TIPO_DOCUMENTO NUMERO_DOCUMENTO RAZON_SOCIAL PRIMER_NOMBRE  \\\n",
      "81   CEDULA DE CIUDADANIA         45528245          NaN         LAURA   \n",
      "105  CEDULA DE CIUDADANIA          6645420          NaN          JUAN   \n",
      "108  CEDULA DE CIUDADANIA         46375405          NaN        YOHANA   \n",
      "141  CEDULA DE CIUDADANIA       1014228665          NaN          JUAN   \n",
      "179  CEDULA DE CIUDADANIA       1143324999          NaN         EDUAR   \n",
      "\n",
      "    SEGUNDO_NOMBRE PRIMER_APELLIDO SEGUNDO_APELLIDO   FECHA_PUBLICACION  \\\n",
      "81             NaN          ARNEDO          JIMÉNEZ 2021-06-01 00:17:00   \n",
      "105       FERNANDO           REYES             KURI 2021-05-31 23:46:00   \n",
      "108      ELIZABETH      ALBARRACÍN            PÉREZ 2021-05-31 23:44:00   \n",
      "141          DAVID         HERRERA          VASQUEZ 2021-05-31 23:15:00   \n",
      "179            NaN           RAMOS         BARRAGAN 2021-05-31 22:49:00   \n",
      "\n",
      "    ESTADO_DEL_REPORTE                                     NOMBRE_ENTIDAD  \\\n",
      "81          FINALIZADO           JUZGADO 006 ADMINISTRATIVO  DE CARTAGENA   \n",
      "105        EN REVISION                                                NaN   \n",
      "108         FINALIZADO            JUZGADO 001 ADMINISTRATIVO  DE SOGAMOSO   \n",
      "141        EN REVISION                                                NaN   \n",
      "179        EN REVISION  LA COMISIÓN PARA EL ESCLARECIMIENTO DE LA VERD...   \n",
      "\n",
      "    ES_CONTRATISTA CARGO POSIBLE_CI  \\\n",
      "81              NO  JUEZ         SÍ   \n",
      "105             NO   NaN         SÍ   \n",
      "108             NO  JUEZ         SÍ   \n",
      "141             SÍ   NaN         SÍ   \n",
      "179             NO   NaN         SÍ   \n",
      "\n",
      "                                       DESC_POSIBLE_CI  \\\n",
      "81   La profesión que han estudiado los parientes a...   \n",
      "105  ARRENDAMIENTO DE BIENES INMUEBLES; ACTIVIDADES...   \n",
      "108  TENGO DEMANDAS LABORALES CONTRA LA RAMA JUDICI...   \n",
      "141                                                 NO   \n",
      "179  - Representante Legal de Sixseeds SAS en Liqui...   \n",
      "\n",
      "                                           DESC_CORPUS  \n",
      "81   profesion estudiado parientes anunciados derec...  \n",
      "105  arrendamiento bienes inmuebles actividades agr...  \n",
      "108  demandas laborales rama judicial temas prima b...  \n",
      "141                                                     \n",
      "179  representante legal sixseeds sas liquidacion e...  \n"
     ]
    }
   ],
   "source": [
    "print(Data1.head())"
   ]
  },
  {
   "cell_type": "code",
   "execution_count": 15,
   "metadata": {},
   "outputs": [
    {
     "name": "stdout",
     "output_type": "stream",
     "text": [
      "<class 'pandas.core.frame.DataFrame'>\n",
      "Int64Index: 1003 entries, 81 to 135411\n",
      "Data columns (total 15 columns):\n",
      " #   Column              Non-Null Count  Dtype         \n",
      "---  ------              --------------  -----         \n",
      " 0   TIPO_DOCUMENTO      1003 non-null   object        \n",
      " 1   NUMERO_DOCUMENTO    1003 non-null   object        \n",
      " 2   RAZON_SOCIAL        34 non-null     object        \n",
      " 3   PRIMER_NOMBRE       969 non-null    object        \n",
      " 4   SEGUNDO_NOMBRE      767 non-null    object        \n",
      " 5   PRIMER_APELLIDO     969 non-null    object        \n",
      " 6   SEGUNDO_APELLIDO    950 non-null    object        \n",
      " 7   FECHA_PUBLICACION   1003 non-null   datetime64[ns]\n",
      " 8   ESTADO_DEL_REPORTE  1003 non-null   object        \n",
      " 9   NOMBRE_ENTIDAD      773 non-null    object        \n",
      " 10  ES_CONTRATISTA      1003 non-null   object        \n",
      " 11  CARGO               190 non-null    object        \n",
      " 12  POSIBLE_CI          1003 non-null   object        \n",
      " 13  DESC_POSIBLE_CI     1003 non-null   object        \n",
      " 14  DESC_CORPUS         1003 non-null   object        \n",
      "dtypes: datetime64[ns](1), object(14)\n",
      "memory usage: 125.4+ KB\n",
      "None\n"
     ]
    }
   ],
   "source": [
    "print(Data1.info())"
   ]
  },
  {
   "cell_type": "code",
   "execution_count": 55,
   "metadata": {},
   "outputs": [
    {
     "data": {
      "image/png": "[encoded data removed]",
      "text/plain": [
       "<Figure size 432x288 with 1 Axes>"
      ]
     },
     "metadata": {},
     "output_type": "display_data"
    }
   ],
   "source": [
    "from sklearn.cluster import KMeans\n",
    "import matplotlib.pyplot as plt\n",
    "distortions = []\n",
    "for i in range(1, 15):\n",
    "    km = KMeans(n_clusters=i, \n",
    "                init='k-means++', \n",
    "                n_init=10, \n",
    "                max_iter=300, \n",
    "                random_state=0)\n",
    "    km.fit(tfidf)\n",
    "    distortions.append(km.inertia_)\n",
    "fig = plt.style.use(\"fivethirtyeight\")\n",
    "plt.plot(range(1, 15), distortions, marker='o')\n",
    "plt.xlabel('Número de clusters')\n",
    "plt.ylabel('distorsión')\n",
    "plt.tight_layout()\n",
    "plt.show()"
   ]
  },
  {
   "cell_type": "code",
   "execution_count": 40,
   "metadata": {},
   "outputs": [
    {
     "data": {
      "text/plain": [
       "'mi activ activ'"
      ]
     },
     "execution_count": 40,
     "metadata": {},
     "output_type": "execute_result"
    }
   ],
   "source": [
    "from nltk.stem import SnowballStemmer\n",
    "def stemmer(x):\n",
    "    texto = x.split()\n",
    "    stemmer = SnowballStemmer('spanish')\n",
    "    stemmed_text = [stemmer.stem(i) for i in texto]\n",
    "    return \" \".join(stemmed_text)\n",
    "\n",
    "stemmer('mi actividad actividades')"
   ]
  },
  {
   "cell_type": "code",
   "execution_count": 56,
   "metadata": {},
   "outputs": [],
   "source": [
    "from sklearn.cluster import KMeans\n",
    "cluster = KMeans(n_clusters=8, init='k-means++',max_iter = 400)\n",
    "cluster.fit(tfidf) #Se aplica el método KMeans a la sabana de datos\n",
    "# Se guarda el cluster asignado\n",
    "Data1['CLUSTER'] = cluster.labels_\n",
    "Data1.to_excel('clustering.xlsx', sheet_name='example')\n",
    "centroide = cluster.cluster_centers_\n",
    "centroide = pd.DataFrame(centroide)\n",
    "centroide.to_excel('centroide.xlsx', sheet_name='example')"
   ]
  },
  {
   "cell_type": "code",
   "execution_count": null,
   "metadata": {},
   "outputs": [],
   "source": []
  }
 ],
 "metadata": {
  "kernelspec": {
   "display_name": "Python 3",
   "language": "python",
   "name": "python3"
  },
  "language_info": {
   "codemirror_mode": {
    "name": "ipython",
    "version": 3
   },
   "file_extension": ".py",
   "mimetype": "text/x-python",
   "name": "python",
   "nbconvert_exporter": "python",
   "pygments_lexer": "ipython3",
   "version": "3.8.3"
  }
 },
 "nbformat": 4,
 "nbformat_minor": 4
}
