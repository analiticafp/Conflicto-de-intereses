{
 "cells": [
  {
   "cell_type": "markdown",
   "id": "28c8a0cb",
   "metadata": {},
   "source": [
    "<p>Pestaña posibles conflictos</p>"
   ]
  },
  {
   "cell_type": "code",
   "execution_count": 1,
   "id": "b480bc98",
   "metadata": {},
   "outputs": [
    {
     "name": "stderr",
     "output_type": "stream",
     "text": [
      "C:\\Users\\miser\\anaconda3\\lib\\site-packages\\openpyxl\\styles\\stylesheet.py:221: UserWarning: Workbook contains no default style, apply openpyxl's default\n",
      "  warn(\"Workbook contains no default style, apply openpyxl's default\")\n"
     ]
    }
   ],
   "source": [
    "import pandas as pd\n",
    "\n",
    "POSIBLES_CI = pd.read_excel('FORMULARIO.xlsx','POSIBLES_CI')"
   ]
  },
  {
   "cell_type": "code",
   "execution_count": 2,
   "id": "8e789663",
   "metadata": {},
   "outputs": [],
   "source": [
    "Data1 = POSIBLES_CI[:]\n",
    "Data1 = Data1[Data1['ESTADO_DEL_REPORTE'].isin(['FINALIZADO','EN REVISION'])]\n",
    "Data1 = Data1[Data1['POSIBLE_CI'].isin(['SÍ'])]\n",
    "Data1 = Data1[Data1['DESC_POSIBLE_CI'].notnull()]"
   ]
  },
  {
   "cell_type": "code",
   "execution_count": 3,
   "id": "7ebdacfd",
   "metadata": {},
   "outputs": [],
   "source": [
    "import re\n",
    "#import nltk\n",
    "#nltk.download('stopwords')\n",
    "from nltk.corpus import stopwords\n",
    "from nltk.stem import SnowballStemmer\n",
    "\n",
    "\n",
    "def saltos_linea(x):\n",
    "    cadena = x.rstrip()\n",
    "    return cadena\n",
    "\n",
    "def minuscula(x):\n",
    "    minuscula = x.lower()\n",
    "    return minuscula\n",
    "\n",
    "def quitarotros(x):\n",
    "    quitar = x.replace(\"ó\",\"o\").replace(\"á\",\"a\").replace(\"é\",\"e\").replace(\"í\",\"i\").replace(\"ú\",\"u\").replace(\"ü\",\"u\").replace(\"  \",\" \")\n",
    "    quitar = re.sub(\"[^a-zA-Z ]\",\"\",quitar)\n",
    "    return quitar\n",
    "\n",
    "def stopword(x):\n",
    "    stopword = set(stopwords.words('spanish2'))\n",
    "    stop = [i for i in x.split() if i not in stopword]\n",
    "    return \" \".join(stop)\n",
    "    #C:/Users/username/AppData/Roming/nltk_data/corpora/stopwords\n",
    "    \n",
    "def stemmer(x):\n",
    "    texto = x.split()\n",
    "    stemmer = SnowballStemmer('spanish')\n",
    "    stemmed_text = [stemmer.stem(i) for i in texto]\n",
    "    return \" \".join(stemmed_text)\n",
    "    \n",
    "\n",
    "Data1['DESC_CORPUS'] = Data1['DESC_POSIBLE_CI'].apply(saltos_linea).apply(minuscula).apply(quitarotros)\n",
    "Data1 = Data1[Data1['DESC_CORPUS'].str.contains(\"no tengo\") == False]\n",
    "Data1 = Data1[Data1['DESC_CORPUS'].str.contains(\"ningun\") == False]\n",
    "Data1['DESC_CORPUS'] = Data1['DESC_CORPUS'].apply(stopword).apply(stemmer)\n",
    "Data1 = Data1[Data1['DESC_CORPUS'] != \"\"]"
   ]
  },
  {
   "cell_type": "code",
   "execution_count": 4,
   "id": "c402b969",
   "metadata": {},
   "outputs": [
    {
     "name": "stdout",
     "output_type": "stream",
     "text": [
      "(807, 5)\n",
      "['activ', 'empres', 'part', 'sas', 'soci']\n",
      "   activ    empres      part       sas      soci\n",
      "0    0.0  0.000000  1.000000  0.000000  0.000000\n",
      "1    1.0  0.000000  0.000000  0.000000  0.000000\n",
      "2    0.0  0.000000  0.000000  0.000000  0.000000\n",
      "3    0.0  0.447939  0.143961  0.761244  0.446244\n",
      "4    0.0  0.000000  0.000000  0.000000  0.000000\n"
     ]
    }
   ],
   "source": [
    "from sklearn.feature_extraction.text import TfidfVectorizer\n",
    "\n",
    "vectorizer = TfidfVectorizer(max_features=50,max_df=0.9,min_df=0.09,ngram_range=(1, 1))\n",
    "tfidf_matriz = vectorizer.fit_transform(Data1['DESC_CORPUS'])\n",
    "feature_nemes = vectorizer.get_feature_names()\n",
    "tfidf = pd.DataFrame(tfidf_matriz.toarray(), columns=vectorizer.get_feature_names())\n",
    "\n",
    "print(tfidf_matriz.shape)\n",
    "print(feature_nemes)\n",
    "print(tfidf.head(n=5))"
   ]
  },
  {
   "cell_type": "code",
   "execution_count": 6,
   "id": "707fbc91",
   "metadata": {},
   "outputs": [
    {
     "name": "stderr",
     "output_type": "stream",
     "text": [
      "C:\\Users\\miser\\anaconda3\\lib\\site-packages\\sklearn\\cluster\\_kmeans.py:881: UserWarning: KMeans is known to have a memory leak on Windows with MKL, when there are less chunks than available threads. You can avoid it by setting the environment variable OMP_NUM_THREADS=4.\n",
      "  warnings.warn(\n"
     ]
    },
    {
     "data": {
      "image/png": "[encoded data removed]",
      "text/plain": [
       "<Figure size 432x288 with 1 Axes>"
      ]
     },
     "metadata": {},
     "output_type": "display_data"
    }
   ],
   "source": [
    "from sklearn.cluster import KMeans\n",
    "import matplotlib.pyplot as plt\n",
    "\n",
    "distorsion = []\n",
    "for i in range(1, 14):\n",
    "    km = KMeans(n_clusters=i, \n",
    "                init='k-means++', \n",
    "                n_init=10, \n",
    "                max_iter=300, \n",
    "                random_state=0)\n",
    "    km.fit(tfidf)\n",
    "    distorsion.append(km.inertia_)\n",
    "fig = plt.style.use(\"fivethirtyeight\")\n",
    "plt.plot(range(1, 14), distorsion, marker='o')\n",
    "plt.xlabel('Número de clusters')\n",
    "plt.ylabel('distorsión')\n",
    "plt.tight_layout()\n",
    "plt.show()"
   ]
  },
  {
   "cell_type": "code",
   "execution_count": 7,
   "id": "f4296731",
   "metadata": {},
   "outputs": [
    {
     "name": "stdout",
     "output_type": "stream",
     "text": [
      "CLUSTER\n",
      "0    501\n",
      "1     78\n",
      "2     65\n",
      "3     47\n",
      "4     68\n",
      "5     48\n",
      "dtype: int64\n"
     ]
    }
   ],
   "source": [
    "cluster = KMeans(n_clusters=6, init='k-means++',max_iter = 1500)\n",
    "cluster.fit(tfidf)\n",
    "Data1['CLUSTER'] = cluster.labels_\n",
    "Data1.to_excel('clustering_posibles.xlsx', sheet_name='example')\n",
    "centroide = cluster.cluster_centers_\n",
    "centroide = pd.DataFrame(centroide)\n",
    "centroide.to_excel('centroide_posibles.xlsx', sheet_name='example')\n",
    "tfidf.to_excel('vector_posibles.xlsx', sheet_name='example')\n",
    "print(Data1.groupby(['CLUSTER']).size())"
   ]
  },
  {
   "cell_type": "markdown",
   "id": "bb39f13c",
   "metadata": {},
   "source": [
    "Conyuge compañero"
   ]
  },
  {
   "cell_type": "code",
   "execution_count": 2,
   "id": "11209229",
   "metadata": {},
   "outputs": [
    {
     "name": "stderr",
     "output_type": "stream",
     "text": [
      "C:\\Users\\miser\\anaconda3\\lib\\site-packages\\openpyxl\\styles\\stylesheet.py:221: UserWarning: Workbook contains no default style, apply openpyxl's default\n",
      "  warn(\"Workbook contains no default style, apply openpyxl's default\")\n"
     ]
    }
   ],
   "source": [
    "import pandas as pd\n",
    "\n",
    "CONYUGE_COMPANERO = pd.read_excel('FORMULARIO.xlsx','CONYUGE_COMPANERO')"
   ]
  },
  {
   "cell_type": "code",
   "execution_count": 3,
   "id": "2d623ecd",
   "metadata": {},
   "outputs": [],
   "source": [
    "Data2 = CONYUGE_COMPANERO[:]\n",
    "Data2 = Data2[Data2['ESTADO_DEL_REPORTE'].isin(['FINALIZADO','EN REVISION'])]\n",
    "Data2 = Data2[Data2['SUSCEPTIBLE_CI'].isin(['SÍ'])]\n",
    "Data2 = Data2[Data2['TIENE_CONYUGE_CPERMANENTE'].isin(['SÍ'])]\n",
    "Data2 = Data2[Data2['CCP_DESC_POTENCIAL_CI'].notnull()]"
   ]
  },
  {
   "cell_type": "code",
   "execution_count": 6,
   "id": "7370ba9d",
   "metadata": {},
   "outputs": [],
   "source": [
    "import re\n",
    "#import nltk\n",
    "#nltk.download('stopwords')\n",
    "from nltk.corpus import stopwords\n",
    "from nltk.stem import SnowballStemmer\n",
    "\n",
    "\n",
    "def saltos_linea(x):\n",
    "    cadena = x.rstrip()\n",
    "    return cadena\n",
    "\n",
    "def minuscula(x):\n",
    "    minuscula = x.lower()\n",
    "    return minuscula\n",
    "\n",
    "def quitarotros(x):\n",
    "    quitar = x.replace(\"ó\",\"o\").replace(\"á\",\"a\").replace(\"é\",\"e\").replace(\"í\",\"i\").replace(\"ú\",\"u\").replace(\"ü\",\"u\").replace(\"  \",\" \")\n",
    "    quitar = re.sub(\"[^a-zA-Z ]\",\"\",quitar)\n",
    "    return quitar\n",
    "\n",
    "def stopword(x):\n",
    "    stopword = set(stopwords.words('spanish2'))\n",
    "    stop = [i for i in x.split() if i not in stopword]\n",
    "    return \" \".join(stop)\n",
    "    #C:/Users/username/AppData/Roming/nltk_data/corpora/stopwords\n",
    "    \n",
    "def stemmer(x):\n",
    "    texto = x.split()\n",
    "    stemmer = SnowballStemmer('spanish')\n",
    "    stemmed_text = [stemmer.stem(i) for i in texto]\n",
    "    return \" \".join(stemmed_text)\n",
    "    \n",
    "\n",
    "Data2['DESC_CORPUS'] = Data2['CCP_DESC_POTENCIAL_CI'].apply(saltos_linea).apply(minuscula).apply(quitarotros)\n",
    "Data2 = Data2[Data2['DESC_CORPUS'].str.contains(\"no tengo\") == False]\n",
    "Data2 = Data2[Data2['DESC_CORPUS'].str.contains(\"ningun\") == False]\n",
    "Data2['DESC_CORPUS'] = Data2['DESC_CORPUS'].apply(stopword).apply(stemmer)\n",
    "Data2 = Data2[Data2['DESC_CORPUS'] != \"\"]"
   ]
  },
  {
   "cell_type": "code",
   "execution_count": 37,
   "id": "b0f1a738",
   "metadata": {},
   "outputs": [
    {
     "name": "stdout",
     "output_type": "stream",
     "text": [
      "(1203, 5)\n",
      "['conflict', 'conyug', 'espos', 'grad', 'trabaj']\n",
      "   conflict  conyug  espos  grad  trabaj\n",
      "0       0.0     1.0    0.0   0.0     0.0\n",
      "1       0.0     0.0    0.0   0.0     0.0\n",
      "2       0.0     0.0    0.0   0.0     0.0\n",
      "3       0.0     1.0    0.0   0.0     0.0\n",
      "4       0.0     0.0    0.0   0.0     0.0\n"
     ]
    }
   ],
   "source": [
    "from sklearn.feature_extraction.text import TfidfVectorizer\n",
    "\n",
    "vectorizer = TfidfVectorizer(max_features=50,max_df=0.9,min_df=0.05,ngram_range=(1, 1))\n",
    "tfidf_matriz = vectorizer.fit_transform(Data2['DESC_CORPUS'])\n",
    "feature_nemes = vectorizer.get_feature_names()\n",
    "tfidf2 = pd.DataFrame(tfidf_matriz.toarray(), columns=vectorizer.get_feature_names())\n",
    "\n",
    "print(tfidf_matriz.shape)\n",
    "print(feature_nemes)\n",
    "print(tfidf.head(n=5))"
   ]
  },
  {
   "cell_type": "code",
   "execution_count": 38,
   "id": "ade490ca",
   "metadata": {},
   "outputs": [
    {
     "name": "stderr",
     "output_type": "stream",
     "text": [
      "C:\\Users\\miser\\anaconda3\\lib\\site-packages\\sklearn\\cluster\\_kmeans.py:881: UserWarning: KMeans is known to have a memory leak on Windows with MKL, when there are less chunks than available threads. You can avoid it by setting the environment variable OMP_NUM_THREADS=5.\n",
      "  warnings.warn(\n"
     ]
    },
    {
     "data": {
      "image/png": "[encoded data removed]",
      "text/plain": [
       "<Figure size 432x288 with 1 Axes>"
      ]
     },
     "metadata": {},
     "output_type": "display_data"
    }
   ],
   "source": [
    "from sklearn.cluster import KMeans\n",
    "import matplotlib.pyplot as plt\n",
    "\n",
    "distorsion = []\n",
    "for i in range(1, 14):\n",
    "    km = KMeans(n_clusters=i, \n",
    "                init='k-means++', \n",
    "                n_init=10, \n",
    "                max_iter=300, \n",
    "                random_state=0)\n",
    "    km.fit(tfidf2)\n",
    "    distorsion.append(km.inertia_)\n",
    "fig = plt.style.use(\"fivethirtyeight\")\n",
    "plt.plot(range(1, 14), distorsion, marker='o')\n",
    "plt.xlabel('Número de clusters')\n",
    "plt.ylabel('distorsión')\n",
    "plt.tight_layout()\n",
    "plt.show()"
   ]
  },
  {
   "cell_type": "code",
   "execution_count": 39,
   "id": "1e213e38",
   "metadata": {},
   "outputs": [
    {
     "name": "stdout",
     "output_type": "stream",
     "text": [
      "CLUSTER\n",
      "0     64\n",
      "1    703\n",
      "2     94\n",
      "3    214\n",
      "4     64\n",
      "5     64\n",
      "dtype: int64\n"
     ]
    }
   ],
   "source": [
    "cluster = KMeans(n_clusters=6, init='k-means++',max_iter = 1500)\n",
    "cluster.fit(tfidf2)\n",
    "Data2['CLUSTER'] = cluster.labels_\n",
    "Data2.to_excel('clustering_companero.xlsx', sheet_name='example')\n",
    "centroide = cluster.cluster_centers_\n",
    "centroide = pd.DataFrame(centroide)\n",
    "centroide.to_excel('centroide_companero.xlsx', sheet_name='example')\n",
    "tfidf2.to_excel('vector_companero.xlsx', sheet_name='example')\n",
    "print(Data2.groupby(['CLUSTER']).size())"
   ]
  },
  {
   "cell_type": "markdown",
   "id": "0d2890ae",
   "metadata": {},
   "source": [
    "<p>Parientes</p>"
   ]
  },
  {
   "cell_type": "code",
   "execution_count": 43,
   "id": "7afc81ba",
   "metadata": {},
   "outputs": [
    {
     "name": "stderr",
     "output_type": "stream",
     "text": [
      "C:\\Users\\miser\\anaconda3\\lib\\site-packages\\openpyxl\\styles\\stylesheet.py:221: UserWarning: Workbook contains no default style, apply openpyxl's default\n",
      "  warn(\"Workbook contains no default style, apply openpyxl's default\")\n"
     ]
    }
   ],
   "source": [
    "import pandas as pd\n",
    "\n",
    "CI_PARIENTES = pd.read_excel('FORMULARIO.xlsx','CI_PARIENTES')"
   ]
  },
  {
   "cell_type": "code",
   "execution_count": 45,
   "id": "e8882260",
   "metadata": {},
   "outputs": [],
   "source": [
    "Data3 = CI_PARIENTES[:]\n",
    "Data3 = Data3[Data3['ESTADO_DEL_REPORTE'].isin(['FINALIZADO','EN REVISION'])]\n",
    "Data3 = Data3[Data3['PARIENTE_DESC_POTENCIAL_CI'].notnull()]"
   ]
  },
  {
   "cell_type": "code",
   "execution_count": 47,
   "id": "ab3e31a4",
   "metadata": {},
   "outputs": [],
   "source": [
    "import re\n",
    "#import nltk\n",
    "#nltk.download('stopwords')\n",
    "from nltk.corpus import stopwords\n",
    "from nltk.stem import SnowballStemmer\n",
    "\n",
    "\n",
    "def saltos_linea(x):\n",
    "    cadena = x.rstrip()\n",
    "    return cadena\n",
    "\n",
    "def minuscula(x):\n",
    "    minuscula = x.lower()\n",
    "    return minuscula\n",
    "\n",
    "def quitarotros(x):\n",
    "    quitar = x.replace(\"ó\",\"o\").replace(\"á\",\"a\").replace(\"é\",\"e\").replace(\"í\",\"i\").replace(\"ú\",\"u\").replace(\"ü\",\"u\").replace(\"  \",\" \")\n",
    "    quitar = re.sub(\"[^a-zA-Z ]\",\"\",quitar)\n",
    "    return quitar\n",
    "\n",
    "def stopword(x):\n",
    "    stopword = set(stopwords.words('spanish2'))\n",
    "    stop = [i for i in x.split() if i not in stopword]\n",
    "    return \" \".join(stop)\n",
    "    #C:/Users/username/AppData/Roming/nltk_data/corpora/stopwords\n",
    "    \n",
    "def stemmer(x):\n",
    "    texto = x.split()\n",
    "    stemmer = SnowballStemmer('spanish')\n",
    "    stemmed_text = [stemmer.stem(i) for i in texto]\n",
    "    return \" \".join(stemmed_text)\n",
    "    \n",
    "\n",
    "Data3['DESC_CORPUS'] = Data3['PARIENTE_DESC_POTENCIAL_CI'].apply(saltos_linea).apply(minuscula).apply(quitarotros)\n",
    "Data3 = Data3[Data3['DESC_CORPUS'].str.contains(\"no tengo\") == False]\n",
    "Data3 = Data3[Data3['DESC_CORPUS'].str.contains(\"ningun\") == False]\n",
    "Data3['DESC_CORPUS'] = Data3['PARIENTE_DESC_POTENCIAL_CI'].apply(stopword).apply(stemmer)\n",
    "Data3 = Data3[Data3['DESC_CORPUS'] != \"\"]"
   ]
  },
  {
   "cell_type": "code",
   "execution_count": 48,
   "id": "41e0c720",
   "metadata": {},
   "outputs": [
    {
     "name": "stdout",
     "output_type": "stream",
     "text": [
      "(7665, 10)\n",
      "['conflict', 'consanguin', 'de', 'grad', 'hij', 'madr', 'mi', 'no', 'padr', 'prim']\n",
      "   conflict  conyug  espos  grad  trabaj\n",
      "0       0.0     1.0    0.0   0.0     0.0\n",
      "1       0.0     0.0    0.0   0.0     0.0\n",
      "2       0.0     0.0    0.0   0.0     0.0\n",
      "3       0.0     1.0    0.0   0.0     0.0\n",
      "4       0.0     0.0    0.0   0.0     0.0\n"
     ]
    }
   ],
   "source": [
    "from sklearn.feature_extraction.text import TfidfVectorizer\n",
    "\n",
    "vectorizer = TfidfVectorizer(max_features=50,max_df=0.9,min_df=0.05,ngram_range=(1, 1))\n",
    "tfidf_matriz = vectorizer.fit_transform(Data3['DESC_CORPUS'])\n",
    "feature_nemes = vectorizer.get_feature_names()\n",
    "tfidf2 = pd.DataFrame(tfidf_matriz.toarray(), columns=vectorizer.get_feature_names())\n",
    "\n",
    "print(tfidf_matriz.shape)\n",
    "print(feature_nemes)\n",
    "print(tfidf.head(n=5))"
   ]
  },
  {
   "cell_type": "code",
   "execution_count": null,
   "id": "947afa1b",
   "metadata": {},
   "outputs": [],
   "source": []
  }
 ],
 "metadata": {
  "kernelspec": {
   "display_name": "Python 3",
   "language": "python",
   "name": "python3"
  },
  "language_info": {
   "codemirror_mode": {
    "name": "ipython",
    "version": 3
   },
   "file_extension": ".py",
   "mimetype": "text/x-python",
   "name": "python",
   "nbconvert_exporter": "python",
   "pygments_lexer": "ipython3",
   "version": "3.8.10"
  }
 },
 "nbformat": 4,
 "nbformat_minor": 5
}
